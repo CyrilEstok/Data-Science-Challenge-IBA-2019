{
  "nbformat": 4,
  "nbformat_minor": 0,
  "metadata": {
    "colab": {
      "name": "Classification_handin.ipynb",
      "provenance": [],
      "collapsed_sections": [
        "EdRfVI2WgPc6",
        "UYbto3JXhSTx",
        "ihGKFmtrQ7Wt",
        "qioitchPjPge",
        "-ONVTESjWOnt"
      ]
    },
    "kernelspec": {
      "display_name": "Python 3",
      "language": "python",
      "name": "python3"
    },
    "language_info": {
      "codemirror_mode": {
        "name": "ipython",
        "version": 3
      },
      "file_extension": ".py",
      "mimetype": "text/x-python",
      "name": "python",
      "nbconvert_exporter": "python",
      "pygments_lexer": "ipython3",
      "version": "3.7.2"
    }
  },
  "cells": [
    {
      "cell_type": "markdown",
      "metadata": {
        "id": "0p1uQtGmf0T7",
        "colab_type": "text"
      },
      "source": [
        "#**Prediction challenge**\n",
        "\n",
        "In this notebook, we will try to build a model able to classify the value of CLASE for a given sample. As we have seen in the previous notebook, the variable are quite correlated and don't explain a lot about the target. In order to overcome this problem we will extract some data from the _Yelp_ API and use it to compute more feature.\n",
        "\n",
        "The model we are presenting is using Adaboost algorithm since it is with this model that we got the best results. "
      ]
    },
    {
      "cell_type": "markdown",
      "metadata": {
        "id": "jPdDuFeT-iYh",
        "colab_type": "text"
      },
      "source": [
        "## **Preparation**"
      ]
    },
    {
      "cell_type": "markdown",
      "metadata": {
        "id": "EdRfVI2WgPc6",
        "colab_type": "text"
      },
      "source": [
        "###**Importing needed libraries**"
      ]
    },
    {
      "cell_type": "code",
      "metadata": {
        "colab_type": "code",
        "id": "dPmOCdsPV8U3",
        "outputId": "f430e10e-a933-49d3-cc32-cc8011866cc1",
        "colab": {
          "base_uri": "https://localhost:8080/",
          "height": 34
        }
      },
      "source": [
        "!pip install pyproj"
      ],
      "execution_count": 0,
      "outputs": [
        {
          "output_type": "stream",
          "text": [
            "Requirement already satisfied: pyproj in /usr/local/lib/python3.6/dist-packages (2.4.2.post1)\n"
          ],
          "name": "stdout"
        }
      ]
    },
    {
      "cell_type": "code",
      "metadata": {
        "colab_type": "code",
        "id": "GuMc7mZzQ7WR",
        "colab": {}
      },
      "source": [
        "import pandas as pd\n",
        "import matplotlib.pyplot as plt\n",
        "import numpy as np\n",
        "from urllib.request import Request, urlopen\n",
        "import json\n",
        "from pyproj import Proj, transform\n",
        "from sklearn.preprocessing import StandardScaler\n",
        "from sklearn.metrics import classification_report, accuracy_score\n",
        "from sklearn.utils.class_weight import compute_class_weight\n",
        "from sklearn.linear_model import LogisticRegression\n",
        "from sklearn.ensemble import AdaBoostClassifier\n",
        "from sklearn.tree import DecisionTreeClassifier\n",
        "from sklearn.svm import SVC\n",
        "from sklearn.model_selection import validation_curve\n",
        "from sklearn.model_selection import GridSearchCV\n",
        "from math import sin, cos, radians, degrees, acos"
      ],
      "execution_count": 0,
      "outputs": []
    },
    {
      "cell_type": "markdown",
      "metadata": {
        "id": "UYbto3JXhSTx",
        "colab_type": "text"
      },
      "source": [
        "### **Loading data**\n",
        "We here load data from two different data sets, the first one containing the location information and the second one the extracted features after our PCA analysis."
      ]
    },
    {
      "cell_type": "code",
      "metadata": {
        "colab_type": "code",
        "id": "WwiB6lRAQ7WV",
        "colab": {}
      },
      "source": [
        "# load data\n",
        "df = pd.read_csv(\"https://gist.githubusercontent.com/JulesBelveze/776c1b404d59cfdf7896da9074246a18/raw/9f7cc5cc8434cd1f8e461a5ad6c57a26651d1775/householdsData.csv\", sep=',', error_bad_lines=False);\n",
        "df = df[df['EXCLUIR'] == 0]\n",
        "\n",
        "df_PCA = pd.read_csv(\"https://gist.githubusercontent.com/JulesBelveze/83501ac4559cb70c8abdcda202cda58a/raw/f6921aeb9e38891d95225b8615e507ee5469fff5/df_PCA\", error_bad_lines=False);\n",
        "assert len(df) == len(df_PCA)"
      ],
      "execution_count": 0,
      "outputs": []
    },
    {
      "cell_type": "code",
      "metadata": {
        "id": "nrKwJ9c1m3dk",
        "colab_type": "code",
        "outputId": "846b7062-6b63-4c6e-97a0-c47f7f3e2cd7",
        "colab": {
          "base_uri": "https://localhost:8080/",
          "height": 224
        }
      },
      "source": [
        "df_PCA.head()"
      ],
      "execution_count": 0,
      "outputs": [
        {
          "output_type": "execute_result",
          "data": {
            "text/html": [
              "<div>\n",
              "<style scoped>\n",
              "    .dataframe tbody tr th:only-of-type {\n",
              "        vertical-align: middle;\n",
              "    }\n",
              "\n",
              "    .dataframe tbody tr th {\n",
              "        vertical-align: top;\n",
              "    }\n",
              "\n",
              "    .dataframe thead th {\n",
              "        text-align: right;\n",
              "    }\n",
              "</style>\n",
              "<table border=\"1\" class=\"dataframe\">\n",
              "  <thead>\n",
              "    <tr style=\"text-align: right;\">\n",
              "      <th></th>\n",
              "      <th>CLASE</th>\n",
              "      <th>Sup_Prom_Constr_Hab_EOD</th>\n",
              "      <th>Calid_EOD_norm_inv</th>\n",
              "      <th>DensConstr_EOD</th>\n",
              "      <th>Dist_est_Metro_MC_KM</th>\n",
              "      <th>Tiempo_Com_Stgo</th>\n",
              "      <th>Ingreso_Promedio_Zona_MM</th>\n",
              "      <th>CLUSTER7</th>\n",
              "      <th>CLUSTER2</th>\n",
              "      <th>Acc_PCA</th>\n",
              "    </tr>\n",
              "  </thead>\n",
              "  <tbody>\n",
              "    <tr>\n",
              "      <th>0</th>\n",
              "      <td>1</td>\n",
              "      <td>53.8</td>\n",
              "      <td>0.98</td>\n",
              "      <td>0.059</td>\n",
              "      <td>23.051711</td>\n",
              "      <td>69</td>\n",
              "      <td>0.519765</td>\n",
              "      <td>3</td>\n",
              "      <td>1</td>\n",
              "      <td>31891.441397</td>\n",
              "    </tr>\n",
              "    <tr>\n",
              "      <th>1</th>\n",
              "      <td>1</td>\n",
              "      <td>59.6</td>\n",
              "      <td>0.98</td>\n",
              "      <td>0.033</td>\n",
              "      <td>21.080177</td>\n",
              "      <td>84</td>\n",
              "      <td>0.678317</td>\n",
              "      <td>3</td>\n",
              "      <td>1</td>\n",
              "      <td>31891.441397</td>\n",
              "    </tr>\n",
              "    <tr>\n",
              "      <th>2</th>\n",
              "      <td>1</td>\n",
              "      <td>59.5</td>\n",
              "      <td>0.98</td>\n",
              "      <td>0.004</td>\n",
              "      <td>34.147894</td>\n",
              "      <td>83</td>\n",
              "      <td>0.408158</td>\n",
              "      <td>3</td>\n",
              "      <td>1</td>\n",
              "      <td>31891.441397</td>\n",
              "    </tr>\n",
              "    <tr>\n",
              "      <th>3</th>\n",
              "      <td>2</td>\n",
              "      <td>59.5</td>\n",
              "      <td>0.98</td>\n",
              "      <td>0.004</td>\n",
              "      <td>34.147817</td>\n",
              "      <td>83</td>\n",
              "      <td>0.408158</td>\n",
              "      <td>3</td>\n",
              "      <td>1</td>\n",
              "      <td>31891.441397</td>\n",
              "    </tr>\n",
              "    <tr>\n",
              "      <th>4</th>\n",
              "      <td>2</td>\n",
              "      <td>43.6</td>\n",
              "      <td>0.98</td>\n",
              "      <td>0.086</td>\n",
              "      <td>19.908792</td>\n",
              "      <td>94</td>\n",
              "      <td>0.498140</td>\n",
              "      <td>3</td>\n",
              "      <td>1</td>\n",
              "      <td>31891.441397</td>\n",
              "    </tr>\n",
              "  </tbody>\n",
              "</table>\n",
              "</div>"
            ],
            "text/plain": [
              "   CLASE  Sup_Prom_Constr_Hab_EOD  ...  CLUSTER2       Acc_PCA\n",
              "0      1                     53.8  ...         1  31891.441397\n",
              "1      1                     59.6  ...         1  31891.441397\n",
              "2      1                     59.5  ...         1  31891.441397\n",
              "3      2                     59.5  ...         1  31891.441397\n",
              "4      2                     43.6  ...         1  31891.441397\n",
              "\n",
              "[5 rows x 10 columns]"
            ]
          },
          "metadata": {
            "tags": []
          },
          "execution_count": 45
        }
      ]
    },
    {
      "cell_type": "code",
      "metadata": {
        "colab_type": "code",
        "id": "4LvbUGdsQ7WX",
        "colab": {}
      },
      "source": [
        "# adding the location information to the dataframe containing the features\n",
        "df_PCA['New_DirCoordX'], df_PCA['New_DirCoordY'] = df['New_DirCoordX'], df['New_DirCoordY']"
      ],
      "execution_count": 0,
      "outputs": []
    },
    {
      "cell_type": "markdown",
      "metadata": {
        "colab_type": "text",
        "id": "ihGKFmtrQ7Wt"
      },
      "source": [
        "### **Adding a new feature**\n",
        "Here we will add a new feature using an external dataset that we  manually retrieve using the Yelp API.\n",
        "The feature is simply the number of businesses that are located within a 2km circle of each observation."
      ]
    },
    {
      "cell_type": "code",
      "metadata": {
        "colab_type": "code",
        "id": "Ke2YLDOCQ7Wt",
        "colab": {}
      },
      "source": [
        "# loading the preprocessed Yelp API responses\n",
        "req = Request(\"https://gist.githubusercontent.com/JulesBelveze/3e254f9382b1ec99af79e550fe02fc6c/raw/5604b14a5181d118d870e63d565739c53274a2f2/filtered-data.json\")\n",
        "with urlopen(req) as fp:\n",
        "    yelp = json.load(fp)"
      ],
      "execution_count": 0,
      "outputs": []
    },
    {
      "cell_type": "code",
      "metadata": {
        "colab_type": "code",
        "id": "DxLLBTSxQ7Wv",
        "outputId": "f4130e6e-60fd-4241-e2dc-04f0ab08d029",
        "colab": {
          "base_uri": "https://localhost:8080/",
          "height": 204
        }
      },
      "source": [
        "df_yelp = pd.DataFrame.from_dict(yelp, orient='index')\n",
        "df_yelp.head()"
      ],
      "execution_count": 0,
      "outputs": [
        {
          "output_type": "execute_result",
          "data": {
            "text/html": [
              "<div>\n",
              "<style scoped>\n",
              "    .dataframe tbody tr th:only-of-type {\n",
              "        vertical-align: middle;\n",
              "    }\n",
              "\n",
              "    .dataframe tbody tr th {\n",
              "        vertical-align: top;\n",
              "    }\n",
              "\n",
              "    .dataframe thead th {\n",
              "        text-align: right;\n",
              "    }\n",
              "</style>\n",
              "<table border=\"1\" class=\"dataframe\">\n",
              "  <thead>\n",
              "    <tr style=\"text-align: right;\">\n",
              "      <th></th>\n",
              "      <th>rating</th>\n",
              "      <th>categories</th>\n",
              "      <th>price</th>\n",
              "      <th>coord</th>\n",
              "    </tr>\n",
              "  </thead>\n",
              "  <tbody>\n",
              "    <tr>\n",
              "      <th>WFJx_BMkWiPWP8d_DK6ylg</th>\n",
              "      <td>4.0</td>\n",
              "      <td>[{'alias': 'german', 'title': 'German'}, {'ali...</td>\n",
              "      <td>2.0</td>\n",
              "      <td>{'latitude': -33.4083077687433, 'longitude': -...</td>\n",
              "    </tr>\n",
              "    <tr>\n",
              "      <th>vM5AfFpMVEFyWixgRfOXTw</th>\n",
              "      <td>4.0</td>\n",
              "      <td>[{'alias': 'latin', 'title': 'Latin American'}]</td>\n",
              "      <td>NaN</td>\n",
              "      <td>{'latitude': -33.4360303, 'longitude': -70.649...</td>\n",
              "    </tr>\n",
              "    <tr>\n",
              "      <th>ZrdxrrXP3idsStgMbPhvPg</th>\n",
              "      <td>3.5</td>\n",
              "      <td>[{'alias': 'arabian', 'title': 'Arabian'}, {'a...</td>\n",
              "      <td>1.0</td>\n",
              "      <td>{'latitude': -33.4395224, 'longitude': -70.662...</td>\n",
              "    </tr>\n",
              "    <tr>\n",
              "      <th>5rzy_B_gx0aIVlIRd58u_g</th>\n",
              "      <td>4.0</td>\n",
              "      <td>[{'alias': 'localflavor', 'title': 'Local Flav...</td>\n",
              "      <td>NaN</td>\n",
              "      <td>{'latitude': -33.4486726, 'longitude': -70.652...</td>\n",
              "    </tr>\n",
              "    <tr>\n",
              "      <th>uBP5ISVSd5D0eEJTgLtmnQ</th>\n",
              "      <td>4.5</td>\n",
              "      <td>[{'alias': 'seafood', 'title': 'Seafood'}]</td>\n",
              "      <td>1.0</td>\n",
              "      <td>{'latitude': -33.4343338, 'longitude': -70.651...</td>\n",
              "    </tr>\n",
              "  </tbody>\n",
              "</table>\n",
              "</div>"
            ],
            "text/plain": [
              "                        rating  ...                                              coord\n",
              "WFJx_BMkWiPWP8d_DK6ylg     4.0  ...  {'latitude': -33.4083077687433, 'longitude': -...\n",
              "vM5AfFpMVEFyWixgRfOXTw     4.0  ...  {'latitude': -33.4360303, 'longitude': -70.649...\n",
              "ZrdxrrXP3idsStgMbPhvPg     3.5  ...  {'latitude': -33.4395224, 'longitude': -70.662...\n",
              "5rzy_B_gx0aIVlIRd58u_g     4.0  ...  {'latitude': -33.4486726, 'longitude': -70.652...\n",
              "uBP5ISVSd5D0eEJTgLtmnQ     4.5  ...  {'latitude': -33.4343338, 'longitude': -70.651...\n",
              "\n",
              "[5 rows x 4 columns]"
            ]
          },
          "metadata": {
            "tags": []
          },
          "execution_count": 48
        }
      ]
    },
    {
      "cell_type": "code",
      "metadata": {
        "colab_type": "code",
        "id": "osnI2kiPQ7Wx",
        "colab": {}
      },
      "source": [
        "# extract the latitude and longitude\n",
        "df_yelp['latitude'] = df_yelp['coord'].apply(lambda x: x['latitude'])\n",
        "df_yelp['longitude'] = df_yelp['coord'].apply(lambda x: x['longitude'])"
      ],
      "execution_count": 0,
      "outputs": []
    },
    {
      "cell_type": "code",
      "metadata": {
        "colab_type": "code",
        "id": "szCHwpHR4Nwn",
        "colab": {}
      },
      "source": [
        "def getDistance(lat_from, lon_from, lat_to, lon_to):\n",
        "  '''Compute the distance in kilometer between two points'''\n",
        "  theta = lon_from - lon_to\n",
        "  dist = sin(radians(lat_from)) * sin(radians(lat_to)) + cos(radians(lat_from)) * cos(radians(lat_to)) * cos(radians(theta))\n",
        "  dist = degrees(acos(dist))\n",
        "  return dist * 60 * 1.1515 * 1.609344"
      ],
      "execution_count": 0,
      "outputs": []
    },
    {
      "cell_type": "code",
      "metadata": {
        "colab_type": "code",
        "id": "A5G2mW2L6Nwu",
        "colab": {}
      },
      "source": [
        "# calculating the number of businesses located within a circle of threshold km\n",
        "in_neigh = [0] * len(df_PCA)\n",
        "threshold = 2\n",
        "for i in df_PCA.index:\n",
        "    for j in df_yelp.index:\n",
        "        dist = getDistance(df_PCA.at[i, 'New_DirCoordY'], df_PCA.at[i, 'New_DirCoordX'], df_yelp.at[j, 'latitude'], df_yelp.at[j, 'longitude'])\n",
        "        if dist < threshold:\n",
        "            in_neigh[i] += 1 "
      ],
      "execution_count": 0,
      "outputs": []
    },
    {
      "cell_type": "code",
      "metadata": {
        "colab_type": "code",
        "id": "XN_seKog6Np3",
        "colab": {}
      },
      "source": [
        "assert len(df_PCA) == len(in_neigh)\n",
        "df_PCA['in_neigh'] = in_neigh"
      ],
      "execution_count": 0,
      "outputs": []
    },
    {
      "cell_type": "markdown",
      "metadata": {
        "id": "qioitchPjPge",
        "colab_type": "text"
      },
      "source": [
        "### **Splitting the dataset**"
      ]
    },
    {
      "cell_type": "code",
      "metadata": {
        "colab_type": "code",
        "id": "FsXbI3YVQ7Wb",
        "colab": {}
      },
      "source": [
        "# box given in the challenge\n",
        "max_x, min_x = -70.6, -70.7\n",
        "max_y, min_y = -33.4, -33.5\n",
        "\n",
        "# split dataframe into a training and a testing one\n",
        "train_filter = (min_x <= df_PCA['New_DirCoordX']) & (df_PCA['New_DirCoordX'] <= max_x) & (min_y <= df_PCA['New_DirCoordY']) & (df_PCA['New_DirCoordY'] <= max_y)\n",
        "\n",
        "df_train = df_PCA[~train_filter]\n",
        "df_test = df_PCA[train_filter]"
      ],
      "execution_count": 0,
      "outputs": []
    },
    {
      "cell_type": "code",
      "metadata": {
        "colab_type": "code",
        "id": "7LG0_rTfQ7Wd",
        "outputId": "b5d8cfdc-46b6-4719-d0a4-24e47c494d26",
        "colab": {
          "base_uri": "https://localhost:8080/",
          "height": 357
        }
      },
      "source": [
        "# visualize the distribution of the two sets\n",
        "plt.figure(figsize=(12,6))\n",
        "plt.plot(df_train['New_DirCoordX'], df_train['New_DirCoordY'], '*', color='b', markersize=1);\n",
        "plt.plot(df_test['New_DirCoordX'], df_test['New_DirCoordY'], '*', color='r', markersize=1);\n",
        "plt.axis(\"off\");"
      ],
      "execution_count": 0,
      "outputs": [
        {
          "output_type": "display_data",
          "data": {
            "image/png": "[encoded data removed]",
            "text/plain": [
              "<Figure size 864x432 with 1 Axes>"
            ]
          },
          "metadata": {
            "tags": []
          }
        }
      ]
    },
    {
      "cell_type": "markdown",
      "metadata": {
        "colab_type": "text",
        "id": "JhyyD9YhQ7Wg"
      },
      "source": [
        "## **Classification**"
      ]
    },
    {
      "cell_type": "code",
      "metadata": {
        "colab_type": "code",
        "id": "2TOCQk50Q7Wf",
        "colab": {}
      },
      "source": [
        "# split sets into feature and target\n",
        "cols_to_drop = [\"CLASE\"]\n",
        "X_train, y_train = df_train.drop(cols_to_drop, axis=1).values, df_train[\"CLASE\"].values\n",
        "X_test, y_test = df_test.drop(cols_to_drop, axis=1).values, df_test[\"CLASE\"].values\n",
        "\n",
        "# scale train set\n",
        "scaler_train = StandardScaler()\n",
        "scaler_train.fit(X_train)\n",
        "X_train_scaled = scaler_train.transform(X_train)\n",
        "X_train_scaled = X_train_scaled\n",
        "\n",
        "# scale test set\n",
        "scaler_test = StandardScaler()\n",
        "scaler_test.fit(X_test)\n",
        "X_test_scaled = scaler_test.transform(X_test)\n",
        "X_test_scaled = X_test_scaled"
      ],
      "execution_count": 0,
      "outputs": []
    },
    {
      "cell_type": "markdown",
      "metadata": {
        "id": "tCwh-map7oTJ",
        "colab_type": "text"
      },
      "source": [
        "### **Logistic Regression**"
      ]
    },
    {
      "cell_type": "code",
      "metadata": {
        "id": "MKsOpOlx7Z4x",
        "colab_type": "code",
        "outputId": "e39a514c-1067-4cfa-cadf-1b4c6234b4be",
        "colab": {
          "base_uri": "https://localhost:8080/",
          "height": 309
        }
      },
      "source": [
        "# fitting a simple logistic regression\n",
        "lr = LogisticRegression();\n",
        "lr.fit(X_train_scaled, y_train);\n",
        "\n",
        "y_hat = lr.predict(X_test_scaled);\n",
        "print(classification_report(y_test, y_hat));\n",
        "print(\"Accuracy test: {}\".format(accuracy_score(y_test, y_hat)));\n",
        "print(\"Accuracy train: {}\".format(accuracy_score(lr.predict(X_train_scaled), y_train)));"
      ],
      "execution_count": 0,
      "outputs": [
        {
          "output_type": "stream",
          "text": [
            "              precision    recall  f1-score   support\n",
            "\n",
            "           1       0.43      0.66      0.52       639\n",
            "           2       0.46      0.50      0.48      1152\n",
            "           3       0.67      0.33      0.44       831\n",
            "\n",
            "    accuracy                           0.48      2622\n",
            "   macro avg       0.52      0.49      0.48      2622\n",
            "weighted avg       0.52      0.48      0.48      2622\n",
            "\n",
            "Accuracy test: 0.4839816933638444\n",
            "Accuracy train: 0.5517395182872435\n"
          ],
          "name": "stdout"
        },
        {
          "output_type": "stream",
          "text": [
            "/usr/local/lib/python3.6/dist-packages/sklearn/linear_model/logistic.py:432: FutureWarning: Default solver will be changed to 'lbfgs' in 0.22. Specify a solver to silence this warning.\n",
            "  FutureWarning)\n",
            "/usr/local/lib/python3.6/dist-packages/sklearn/linear_model/logistic.py:469: FutureWarning: Default multi_class will be changed to 'auto' in 0.22. Specify the multi_class option to silence this warning.\n",
            "  \"this warning.\", FutureWarning)\n"
          ],
          "name": "stderr"
        }
      ]
    },
    {
      "cell_type": "markdown",
      "metadata": {
        "colab_type": "text",
        "id": "XvgXbyBQQ7Wp"
      },
      "source": [
        "### **AdaBoost**\n",
        "The analysis we performed on the data clearly depicts that there is no proper correlation between the targeted column and any feature column. In addition, most of the features are highly correlated which is why we performed a PCA analysis.\n",
        "We have tried out a lot of different classification methods, from the simplest (e.g. logistic regression in the above section) to sofisticated ones (e.g. XGBoost) and the results were really disapointing. We also performed some grid search on most of the algorithm we have tried in order to get the best results.\n",
        "\n",
        "However, we decided to use AdaBoost since it is not likely to lead to overfitting and it can be combined to other algorithms to improve accuracy."
      ]
    },
    {
      "cell_type": "code",
      "metadata": {
        "id": "pse7gmdW05sF",
        "colab_type": "code",
        "outputId": "fa3c96b1-27e6-444a-b8f7-5f20b93561cb",
        "colab": {
          "base_uri": "https://localhost:8080/",
          "height": 241
        }
      },
      "source": [
        "# fitting a simple AdaBoostClassifier\n",
        "clf = AdaBoostClassifier(random_state=42)\n",
        "\n",
        "clf.fit(X_train_scaled, y_train)\n",
        "\n",
        "y_hat = clf.predict(X_test_scaled)\n",
        "print(classification_report(y_test, y_hat))\n",
        "print(\"Accuracy test: {}\".format(accuracy_score(y_test, y_hat)))\n",
        "print(\"Accuracy train: {}\".format(accuracy_score(clf.predict(X_train_scaled), y_train)))"
      ],
      "execution_count": 0,
      "outputs": [
        {
          "output_type": "stream",
          "text": [
            "              precision    recall  f1-score   support\n",
            "\n",
            "           1       0.45      0.62      0.52       639\n",
            "           2       0.49      0.52      0.50      1152\n",
            "           3       0.62      0.39      0.48       831\n",
            "\n",
            "    accuracy                           0.50      2622\n",
            "   macro avg       0.52      0.51      0.50      2622\n",
            "weighted avg       0.52      0.50      0.50      2622\n",
            "\n",
            "Accuracy test: 0.5022883295194508\n",
            "Accuracy train: 0.5630389533154921\n"
          ],
          "name": "stdout"
        }
      ]
    },
    {
      "cell_type": "markdown",
      "metadata": {
        "id": "ylaF88r41vlC",
        "colab_type": "text"
      },
      "source": [
        "We will now perform parameter optimization. The ideal method to perform is an exhaustive grid search. However, since it is really time consuming and did not lead to any significant improvement we will tune the parameters using a validation curve."
      ]
    },
    {
      "cell_type": "markdown",
      "metadata": {
        "id": "jT9rC9Oz2jeo",
        "colab_type": "text"
      },
      "source": [
        "We will use simple decision tree as weak learners for our model. "
      ]
    },
    {
      "cell_type": "code",
      "metadata": {
        "id": "lFEqsuyZ2h8I",
        "colab_type": "code",
        "colab": {}
      },
      "source": [
        "DTC = DecisionTreeClassifier(random_state = 11, max_features = \"auto\", max_depth = 2)"
      ],
      "execution_count": 0,
      "outputs": []
    },
    {
      "cell_type": "code",
      "metadata": {
        "id": "j19aVs8n2uep",
        "colab_type": "code",
        "outputId": "ecd6c00c-16e7-41e6-834d-115eac8d738f",
        "colab": {
          "base_uri": "https://localhost:8080/",
          "height": 297
        }
      },
      "source": [
        "n_estimators_range = np.linspace(10, 100, num=10, dtype=int)\n",
        "lr_range = np.linspace(.01, 1, num=10)\n",
        "\n",
        "# validation curve for number of estimators\n",
        "train_scoreNum, test_scoreNum = validation_curve(\n",
        "                                AdaBoostClassifier(base_estimator=DTC, random_state=11),\n",
        "                                X = X_train_scaled, y = y_train, \n",
        "                                param_name = 'n_estimators', \n",
        "                                param_range = n_estimators_range, cv = 3)\n",
        "\n",
        "# validation curve for learning rate\n",
        "train_scoreLr, test_scoreLr = validation_curve(\n",
        "                                AdaBoostClassifier(base_estimator=DTC, random_state=11),\n",
        "                                X = X_train_scaled, y = y_train, \n",
        "                                param_name = 'learning_rate', \n",
        "                                param_range = lr_range, cv = 3)\n",
        "\n",
        "fig, ax = plt.subplots(ncols=2, nrows=1, figsize=(12,4))\n",
        "ax[0].set_title(\"Validation curve for AdaBoost\");\n",
        "ax[0].plot(lr_range, np.mean(train_scoreNum, axis=1), label='train');\n",
        "ax[0].plot(lr_range, np.mean(test_scoreNum, axis=1), label='test');\n",
        "ax[0].set_xlabel(\"number of estimators\");\n",
        "ax[0].set_ylabel(\"accuracy\");\n",
        "ax[0].legend();\n",
        "\n",
        "ax[1].set_title(\"Validation curve for AdaBoost\");\n",
        "ax[1].plot(lr_range, np.mean(train_scoreLr, axis=1), label='train');\n",
        "ax[1].plot(lr_range, np.mean(test_scoreLr, axis=1), label='test');\n",
        "ax[1].set_xlabel(\"learning rate\");\n",
        "ax[1].set_ylabel(\"accuracy\");\n",
        "ax[1].legend();\n",
        "plt.tight_layout();"
      ],
      "execution_count": 0,
      "outputs": [
        {
          "output_type": "display_data",
          "data": {
            "image/png": "[encoded data removed]",
            "text/plain": [
              "<Figure size 864x288 with 2 Axes>"
            ]
          },
          "metadata": {
            "tags": []
          }
        }
      ]
    },
    {
      "cell_type": "code",
      "metadata": {
        "id": "PwIkWYnH4Kgo",
        "colab_type": "code",
        "outputId": "16e3d89d-2342-4e8b-d685-32b8ba01b2e0",
        "colab": {
          "base_uri": "https://localhost:8080/",
          "height": 221
        }
      },
      "source": [
        "# adaboost classifier with best parameters\n",
        "clf = AdaBoostClassifier(base_estimator=DTC, learning_rate=.01, n_estimators=50, random_state=11)\n",
        "\n",
        "clf.fit(X_train_scaled, y_train)\n",
        "\n",
        "y_hat = clf.predict(X_test_scaled)\n",
        "print(classification_report(y_test, y_hat))\n",
        "print(\"Accuracy test: {}\".format(accuracy_score(y_test, y_hat)))\n",
        "print(\"Accuracy train: {}\".format(accuracy_score(clf.predict(X_train_scaled), y_train)))"
      ],
      "execution_count": 0,
      "outputs": [
        {
          "output_type": "stream",
          "text": [
            "              precision    recall  f1-score   support\n",
            "\n",
            "           1       0.49      0.53      0.51       639\n",
            "           2       0.49      0.62      0.54      1152\n",
            "           3       0.66      0.37      0.47       831\n",
            "\n",
            "    accuracy                           0.52      2622\n",
            "   macro avg       0.54      0.50      0.51      2622\n",
            "weighted avg       0.54      0.52      0.51      2622\n",
            "\n",
            "Accuracy test: 0.5160183066361556\n",
            "Accuracy train: 0.5590246803449301\n"
          ],
          "name": "stdout"
        }
      ]
    },
    {
      "cell_type": "markdown",
      "metadata": {
        "id": "V3ttN0Yy8j_G",
        "colab_type": "text"
      },
      "source": [
        "We can observe a small improvement after parameter tuning. However, the train accuracy is still pretty low, meaning that the model fails at capturing any pattern in the data."
      ]
    },
    {
      "cell_type": "markdown",
      "metadata": {
        "id": "-ONVTESjWOnt",
        "colab_type": "text"
      },
      "source": [
        "## **Conclusion**\n",
        "As expected from our preliminary analysis the classification turned out to be quite disappointing. We tried different algorithms in order to capture the underlying information but due to poor quality of the data we were not able to achieve a satisfying performance."
      ]
    },
    {
      "cell_type": "code",
      "metadata": {
        "id": "p3Sz5uq4o0Z6",
        "colab_type": "code",
        "colab": {}
      },
      "source": [
        ""
      ],
      "execution_count": 0,
      "outputs": []
    }
  ]
}